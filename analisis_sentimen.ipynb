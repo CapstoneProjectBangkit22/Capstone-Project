{
  "cells": [
    {
      "cell_type": "code",
      "execution_count": null,
      "metadata": {
        "id": "ZSVScRKSezL4"
      },
      "outputs": [],
      "source": [
        "import pandas as pd\n",
        "import numpy as np\n",
        "import re\n",
        "import csv\n",
        "import random\n",
        "import tensorflow as tf\n",
        "\n",
        "from matplotlib import pyplot as plt\n",
        "from google.colab import files\n",
        "from numpy import array\n",
        "from tensorflow import keras\n",
        "from tensorflow.keras.optimizers import SGD\n",
        "from tensorflow.keras.preprocessing.text import Tokenizer\n",
        "from tensorflow.keras.preprocessing.sequence import pad_sequences"
      ]
    },
    {
      "cell_type": "code",
      "source": [
        "from google.colab import drive\n",
        "drive.mount('/content/drive')"
      ],
      "metadata": {
        "colab": {
          "base_uri": "https://localhost:8080/"
        },
        "id": "xFbkoLDsGc3A",
        "outputId": "de6afba1-a3dd-4b93-8f61-d21e03ea04f1"
      },
      "execution_count": null,
      "outputs": [
        {
          "output_type": "stream",
          "name": "stdout",
          "text": [
            "Mounted at /content/drive\n"
          ]
        }
      ]
    },
    {
      "cell_type": "code",
      "execution_count": null,
      "metadata": {
        "id": "3Uy1sEHLFBEg"
      },
      "outputs": [],
      "source": [
        "data = pd.read_csv('/content/drive/MyDrive/capstone/dataset_safe/data.csv', encoding='latin-1')\n",
        "alay_dict = pd.read_csv('/content/drive/MyDrive/capstone/dataset_safe/new_kamusalay.csv', encoding='latin-1', header=None)\n",
        "stopwords = pd.read_csv('/content/drive/MyDrive/capstone/dataset_safe/stopword.csv', encoding='latin-1')\n",
        "alay_dict = alay_dict.rename(columns={0: 'original', \n",
        "                                      1: 'replacement'})\n",
        "stopwords = stopwords.rename(columns={0: 'stopword'})"
      ]
    },
    {
      "cell_type": "code",
      "execution_count": null,
      "metadata": {
        "id": "kLjxe0RAUpKR"
      },
      "outputs": [],
      "source": [
        "EMBEDDING_DIM = 64\n",
        "MAXLEN = 300\n",
        "TRUNCATING = 'post'\n",
        "PADDING = 'post'\n",
        "OOV_TOKEN = \"<OOV>\""
      ]
    },
    {
      "cell_type": "code",
      "execution_count": null,
      "metadata": {
        "id": "kEUyxuIqGo79"
      },
      "outputs": [],
      "source": [
        "def lowercase(text):\n",
        "    return text.lower()\n",
        "\n",
        "def remove_unnecessary_char(text):\n",
        "    text = re.sub('\\n',' ',text) # Remove every '\\n'\n",
        "    text = re.sub('rt',' ',text) # Remove every retweet symbol\n",
        "    text = re.sub('user',' ',text) # Remove every username\n",
        "    text = re.sub('((www\\.[^\\s]+)|(https?://[^\\s]+)|(http?://[^\\s]+))',' ',text) # Remove every URL\n",
        "    text = re.sub('  +', ' ', text) # Remove extra spaces\n",
        "    text = re.sub(r\"\\d+\", \"\", text) # Remove number\n",
        "    text = text.encode('ascii', 'replace').decode('ascii') # Remove non ASCII\n",
        "    text = ' '.join(re.sub(\"([@#][A-Za-z0-9]+)|(\\w+:\\/\\/\\S+)\",\" \", text).split()) #Remove hastag, mention\n",
        "    return text\n",
        "\n",
        "def remove_nonaplhanumeric(text):\n",
        "    text = re.sub('[^0-9a-zA-Z]+', ' ', text) \n",
        "    return text\n",
        "\n",
        "def normalize_alay(text):\n",
        "    return ' '.join([alay_dict_map[word] if word in alay_dict_map else word for word in text.split(' ')])\n",
        "\n",
        "def remove_stopword(text):\n",
        "    text = ' '.join(['' if word in stopwords.stopword.values else word for word in text.split(' ')])\n",
        "    text = re.sub('  +', ' ', text) # Remove extra spaces\n",
        "    text = text.strip()\n",
        "    return text\n",
        "\n",
        "def preprocess(text):\n",
        "    text = lowercase(text) # 1\n",
        "    text = remove_nonaplhanumeric(text) # 2\n",
        "    text = remove_unnecessary_char(text) # 3\n",
        "    text = normalize_alay(text) # 4\n",
        "    text = remove_stopword(text) # 5\n",
        "    return text"
      ]
    },
    {
      "cell_type": "code",
      "execution_count": null,
      "metadata": {
        "id": "0VdDyA3vPqT2"
      },
      "outputs": [],
      "source": [
        "alay_dict_map = dict(zip(alay_dict['original'], alay_dict['replacement']))"
      ]
    },
    {
      "cell_type": "code",
      "execution_count": null,
      "metadata": {
        "id": "aOsOZym5QnEn"
      },
      "outputs": [],
      "source": [
        "data = data[['Tweet', 'HS']]\n",
        "data['Tweet'] = data['Tweet'].apply(preprocess)"
      ]
    },
    {
      "cell_type": "code",
      "execution_count": null,
      "metadata": {
        "id": "p9La6XYaiuk_"
      },
      "outputs": [],
      "source": [
        "train_size = 10000\n",
        "sentences = data['Tweet']\n",
        "labels = data['HS']\n",
        "    \n",
        "train_sentences = sentences[:train_size]\n",
        "train_labels = labels[:train_size]\n",
        "\n",
        "val_sentences = sentences[train_size:]\n",
        "val_labels = labels[train_size:]"
      ]
    },
    {
      "cell_type": "code",
      "execution_count": null,
      "metadata": {
        "id": "UQugyT5YS-iW"
      },
      "outputs": [],
      "source": [
        "def fit_tokenizer(sentences, oov_token):\n",
        "    tokenizer = Tokenizer(oov_token=oov_token)\n",
        "    tokenizer.fit_on_texts(sentences)\n",
        "    return tokenizer"
      ]
    },
    {
      "cell_type": "code",
      "execution_count": null,
      "metadata": {
        "id": "qJ7Om4_tTDtj"
      },
      "outputs": [],
      "source": [
        "tokenizer = fit_tokenizer(train_sentences, OOV_TOKEN)\n",
        "word_index = tokenizer.word_index\n",
        "VOCAB_SIZE = len(tokenizer.word_index)"
      ]
    },
    {
      "cell_type": "code",
      "execution_count": null,
      "metadata": {
        "id": "1Er-K7pPTNlf"
      },
      "outputs": [],
      "source": [
        "def seq_pad_and_trunc(sentences, tokenizer, padding, truncating, maxlen):\n",
        "    sequences = tokenizer.texts_to_sequences(sentences)\n",
        "    pad_trunc_sequences = pad_sequences(sequences, maxlen=maxlen, padding=padding, truncating=truncating)\n",
        "    return pad_trunc_sequences"
      ]
    },
    {
      "cell_type": "code",
      "execution_count": null,
      "metadata": {
        "id": "IklXgukuTX7B"
      },
      "outputs": [],
      "source": [
        "sentences_train_pad_trunc_seq = seq_pad_and_trunc(train_sentences, tokenizer, PADDING, TRUNCATING, MAXLEN)\n",
        "sentences_val_pad_trunc_seq = seq_pad_and_trunc(val_sentences, tokenizer, PADDING, TRUNCATING, MAXLEN)"
      ]
    },
    {
      "cell_type": "code",
      "execution_count": null,
      "metadata": {
        "id": "4bw-6WwNTfib"
      },
      "outputs": [],
      "source": [
        "training_padded = np.array(sentences_train_pad_trunc_seq)\n",
        "training_labels = np.array(train_labels)\n",
        "testing_padded = np.array(sentences_val_pad_trunc_seq)\n",
        "testing_labels = np.array(val_labels)"
      ]
    },
    {
      "cell_type": "code",
      "execution_count": null,
      "metadata": {
        "id": "Y5lvnUkDZK5q"
      },
      "outputs": [],
      "source": [
        "print(\"Total words\", VOCAB_SIZE)"
      ]
    },
    {
      "cell_type": "code",
      "execution_count": null,
      "metadata": {
        "id": "1tyVqaU_p3CX"
      },
      "outputs": [],
      "source": [
        "EMBEDDINGS_MATRIX = np.zeros((VOCAB_SIZE+1, EMBEDDING_DIM))"
      ]
    },
    {
      "cell_type": "code",
      "execution_count": null,
      "metadata": {
        "id": "gqNH2mme5L6D"
      },
      "outputs": [],
      "source": [
        "model = tf.keras.Sequential([ \n",
        "        tf.keras.layers.Embedding(VOCAB_SIZE+1, EMBEDDING_DIM, input_length=MAXLEN),\n",
        "        tf.keras.layers.GlobalAveragePooling1D(),\n",
        "        tf.keras.layers.Dense(24, activation='relu'),\n",
        "        tf.keras.layers.Dropout(0.2),\n",
        "        tf.keras.layers.Dense(1, activation='sigmoid')\n",
        "    ])\n",
        "model.summary()"
      ]
    },
    {
      "cell_type": "code",
      "execution_count": null,
      "metadata": {
        "id": "wzCBPIAvNqo6"
      },
      "outputs": [],
      "source": [
        "\n",
        "model.compile(loss='binary_crossentropy', optimizer='adam', metrics=['accuracy'])\n",
        "\n",
        "# Train the model and save the training history\n",
        "history = model.fit(training_padded, training_labels, epochs=15, validation_data=(testing_padded, testing_labels))"
      ]
    },
    {
      "cell_type": "code",
      "execution_count": null,
      "metadata": {
        "id": "g1hI2YusuJnI"
      },
      "outputs": [],
      "source": [
        "cek_akurasi = loss, accuracy=model.evaluate(testing_padded, testing_labels)"
      ]
    },
    {
      "cell_type": "code",
      "execution_count": null,
      "metadata": {
        "id": "hlMPrYx3GUwk"
      },
      "outputs": [],
      "source": [
        "#Evaluasi\n",
        "\n",
        "import matplotlib.pyplot as plt\n",
        "\n",
        "plt.plot(history.history['accuracy'])\n",
        "plt.plot(history.history['val_accuracy'])\n",
        "\n",
        "plt.title('Model Accuracy')\n",
        "plt.ylabel('Accuracy')\n",
        "plt.xlabel('Epoch')\n",
        "\n",
        "plt.legend(['Train', 'Test'], loc='lower right')\n",
        "plt.show()"
      ]
    },
    {
      "cell_type": "code",
      "execution_count": null,
      "metadata": {
        "id": "u3i7A3bgv_uQ"
      },
      "outputs": [],
      "source": [
        "#Prediksi\n",
        "def sentiment(score):\n",
        " return \"POSITIF\" if score < 0.5 else \"NEGATIVE\"\n",
        "def predict(sentences):\n",
        " cek = pad_sequences(tokenizer.texts_to_sequences([sentences]), maxlen=MAXLEN)\n",
        " score = model.predict([cek])[0]\n",
        " label = sentiment(score)\n",
        " return {\"label\": label, \"score\": float(score)}\n",
        "\n"
      ]
    },
    {
      "cell_type": "code",
      "execution_count": null,
      "metadata": {
        "id": "rwtnKRVqyZ4z"
      },
      "outputs": [],
      "source": [
        "predict(\"\")"
      ]
    },
    {
      "cell_type": "code",
      "execution_count": null,
      "metadata": {
        "id": "zYUxv-PWGUwm"
      },
      "outputs": [],
      "source": [
        "#save model\n",
        "export_dir = 'saved_model/1'\n",
        "tf.saved_model.save(model,export_dir)"
      ]
    },
    {
      "cell_type": "code",
      "execution_count": null,
      "metadata": {
        "id": "wXL8qOQtGUwn"
      },
      "outputs": [],
      "source": [
        "#convert model\n",
        "converter = tf.lite.TFLiteConverter.from_saved_model(export_dir)\n",
        "tflite_model = converter.convert()"
      ]
    },
    {
      "cell_type": "code",
      "execution_count": null,
      "metadata": {
        "id": "6O54S8OnGUwn"
      },
      "outputs": [],
      "source": [
        "import pathlib\n",
        "\n",
        "tflite_model_file = pathlib.Path('./model.tflite')\n",
        "tflite_model_file.write_bytes(tflite_model)"
      ]
    },
    {
      "cell_type": "code",
      "execution_count": null,
      "metadata": {
        "id": "qWIjWjGBGUwo"
      },
      "outputs": [],
      "source": [
        "# Load TFLite model and allocate tensors.\n",
        "interpreter = tf.lite.Interpreter(model_content=tflite_model)\n",
        "interpreter.allocate_tensors()\n",
        "\n",
        "input_details = interpreter.get_input_details()\n",
        "output_details = interpreter.get_output_details()"
      ]
    },
    {
      "cell_type": "code",
      "execution_count": null,
      "metadata": {
        "id": "9l2Z4y0PGUwq"
      },
      "outputs": [],
      "source": [
        "#Download tflite\n",
        "from google.colab import files\n",
        "\n",
        "files.download(tflite_model_file)"
      ]
    },
    {
      "cell_type": "code",
      "source": [
        "model.save('/content/drive/MyDrive/capstone/sentimen_model.h5')"
      ],
      "metadata": {
        "id": "Y6mOGZ88R7R6"
      },
      "execution_count": null,
      "outputs": []
    },
    {
      "cell_type": "code",
      "source": [
        "##TESTING\n",
        "new_model = tf.keras.models.load_model(\"/content/drive/MyDrive/capstone/sentimen_model.h5\")"
      ],
      "metadata": {
        "id": "qzv0jqa8Az7N"
      },
      "execution_count": null,
      "outputs": []
    },
    {
      "cell_type": "code",
      "source": [
        "new_model.summary()"
      ],
      "metadata": {
        "id": "bh7BoLvUIAjm",
        "colab": {
          "base_uri": "https://localhost:8080/"
        },
        "outputId": "bdd97979-2aac-4bdf-da4d-6b7a6aa93b53"
      },
      "execution_count": null,
      "outputs": [
        {
          "output_type": "stream",
          "name": "stdout",
          "text": [
            "Model: \"sequential\"\n",
            "_________________________________________________________________\n",
            " Layer (type)                Output Shape              Param #   \n",
            "=================================================================\n",
            " embedding (Embedding)       (None, 300, 64)           1060800   \n",
            "                                                                 \n",
            " global_average_pooling1d (G  (None, 64)               0         \n",
            " lobalAveragePooling1D)                                          \n",
            "                                                                 \n",
            " dense (Dense)               (None, 24)                1560      \n",
            "                                                                 \n",
            " dropout (Dropout)           (None, 24)                0         \n",
            "                                                                 \n",
            " dense_1 (Dense)             (None, 1)                 25        \n",
            "                                                                 \n",
            "=================================================================\n",
            "Total params: 1,062,385\n",
            "Trainable params: 1,062,385\n",
            "Non-trainable params: 0\n",
            "_________________________________________________________________\n"
          ]
        }
      ]
    },
    {
      "cell_type": "code",
      "source": [
        "loss, acc = new_model.evaluate(testing_padded, testing_labels)"
      ],
      "metadata": {
        "id": "udcWjuzaIVMJ",
        "colab": {
          "base_uri": "https://localhost:8080/"
        },
        "outputId": "9393b83d-a301-4bf5-f834-ee3709e8f766"
      },
      "execution_count": null,
      "outputs": [
        {
          "output_type": "stream",
          "name": "stdout",
          "text": [
            "100/100 [==============================] - 1s 2ms/step - loss: 0.4226 - accuracy: 0.8400\n"
          ]
        }
      ]
    },
    {
      "cell_type": "code",
      "source": [
        "print(loss)"
      ],
      "metadata": {
        "id": "tWj9wYaiIwwn",
        "colab": {
          "base_uri": "https://localhost:8080/"
        },
        "outputId": "c424abb3-a674-4a12-d5f1-59dd7166e697"
      },
      "execution_count": null,
      "outputs": [
        {
          "output_type": "stream",
          "name": "stdout",
          "text": [
            "0.4226473271846771\n"
          ]
        }
      ]
    },
    {
      "cell_type": "code",
      "source": [
        "print(acc)"
      ],
      "metadata": {
        "id": "dwMcZWFZI1Ph",
        "colab": {
          "base_uri": "https://localhost:8080/"
        },
        "outputId": "6cf056d6-47fc-4e9b-92d6-07cb27d0d71c"
      },
      "execution_count": null,
      "outputs": [
        {
          "output_type": "stream",
          "name": "stdout",
          "text": [
            "0.8400126099586487\n"
          ]
        }
      ]
    },
    {
      "cell_type": "code",
      "source": [
        "#Prediksi\n",
        "def sentiment(nilai):\n",
        " return \"POSITIF\" if nilai < 0.5 else \"NEGATIVE\"\n",
        "def predict(sentences):\n",
        " cek = pad_sequences(tokenizer.texts_to_sequences([sentences]), maxlen=MAXLEN)\n",
        " nilai = new_model.predict([cek])[0]\n",
        " label = sentiment(nilai)\n",
        " return {\"label\": label, \"nilai\": float(nilai)}"
      ],
      "metadata": {
        "id": "2xOv8x1wI6rr"
      },
      "execution_count": null,
      "outputs": []
    },
    {
      "cell_type": "code",
      "source": [
        "predict(\"Halo, nama ku Lucky Anggari Kusumaningtias. Aku berasal dari Ngawi Jawa Timur. Yang sekarang sedang mengikuti MBKM Bangkit 2022. Salam Kenal\")"
      ],
      "metadata": {
        "id": "SA9k9g2jJESZ",
        "colab": {
          "base_uri": "https://localhost:8080/"
        },
        "outputId": "9fdd9fa0-16f7-499b-bbab-fa51caf54842"
      },
      "execution_count": null,
      "outputs": [
        {
          "output_type": "execute_result",
          "data": {
            "text/plain": [
              "{'label': 'POSITIF', 'nilai': 0.001206815242767334}"
            ]
          },
          "metadata": {},
          "execution_count": 21
        }
      ]
    },
    {
      "cell_type": "code",
      "source": [
        "predict(\"\"\"Cowonya di slebew aja pake matras.Hornkee with fitness mat? Go Ask your brain to control your kntl, goblok get some help\"\"\")"
      ],
      "metadata": {
        "colab": {
          "base_uri": "https://localhost:8080/"
        },
        "id": "wk1Sn9PNNlZM",
        "outputId": "996a6c63-75b1-4be5-e23e-a1f82fc3c18c"
      },
      "execution_count": null,
      "outputs": [
        {
          "output_type": "execute_result",
          "data": {
            "text/plain": [
              "{'label': 'NEGATIVE', 'nilai': 0.5282399654388428}"
            ]
          },
          "metadata": {},
          "execution_count": 22
        }
      ]
    }
  ],
  "metadata": {
    "colab": {
      "collapsed_sections": [],
      "name": "analisis_sentimen.ipynb",
      "provenance": []
    },
    "interpreter": {
      "hash": "f544ce1a915a9875fad91c894e2c0bcad4b7a79945aa6027ef3ad27810072aa6"
    },
    "kernelspec": {
      "display_name": "Python 3.8.10 64-bit",
      "language": "python",
      "name": "python3"
    },
    "language_info": {
      "codemirror_mode": {
        "name": "ipython",
        "version": 3
      },
      "file_extension": ".py",
      "mimetype": "text/x-python",
      "name": "python",
      "nbconvert_exporter": "python",
      "pygments_lexer": "ipython3",
      "version": "3.8.10"
    }
  },
  "nbformat": 4,
  "nbformat_minor": 0
}